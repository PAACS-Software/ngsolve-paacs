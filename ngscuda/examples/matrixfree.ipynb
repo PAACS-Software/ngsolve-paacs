{
 "cells": [
  {
   "cell_type": "markdown",
   "metadata": {},
   "source": [
    "# 2.11 Matrix free operator application\n",
    "Usually, we assemble matrices in sparse matrix format. Certain methods allow to improve performance and reduce memory requirements considerably by avoiding building and storing the system matrix. The counterpart of this approach is that it is now difficult to build preconditioners"
   ]
  },
  {
   "cell_type": "markdown",
   "metadata": {},
   "source": [
    "## Hybrid mixed method\n",
    "\n",
    "consider the hybrid mixed method\n",
    "\n",
    "$$\n",
    "\\begin{array}{ccccl}\n",
    "A \\sigma & + & B^T u & = & f \\\\\n",
    "B u & & & = & g\n",
    "\\end{array}\n",
    "$$\n",
    "\n",
    "where the matrix $A$ comes from\n",
    "\n",
    "$$\n",
    "\\int \\sigma \\tau dx \n",
    "$$\n",
    "\n",
    "and the matrix $B$ from\n",
    "\n",
    "$$\n",
    "\\sum_T \\int_T \\operatorname{div} \\, \\sigma \\, v_T - \\int_{\\partial T} \\sigma_n v_F\n",
    "$$\n",
    "\n",
    "For $\\sigma$ we use a `VectorL2` space, with a Piola-mapping to the physical elements"
   ]
  },
  {
   "cell_type": "code",
   "execution_count": null,
   "metadata": {},
   "outputs": [],
   "source": [
    "from ngsolve import *\n",
    "from ngsolve.webgui import Draw\n",
    "from netgen.geom2d import unit_square\n",
    "from ngsolve.fem import MixedFE\n",
    "from netgen.csg import *\n",
    "\n",
    "geom = CSGeometry()\n",
    "geom.Add (Sphere(Pnt(50,50,50),80) \\\n",
    "          -Cylinder(Pnt(-100,0,0),Pnt(200,0,0), 40) \\\n",
    "          -Cylinder(Pnt(100,-100,100),Pnt(100,200,100),40)\n",
    "          -Cylinder(Pnt(0,100,-100), Pnt(0,100,200),40)\n",
    "          -Sphere(Pnt(50,50,50),50))\n",
    "# geom.Draw()\n",
    "\n",
    "mesh = Mesh(geom.GenerateMesh(maxh=25))\n",
    "\n",
    "#for i in range(1):\n",
    "#    mesh.Refine()\n",
    "#mesh.Curve(5)\n",
    "# Draw (mesh)"
   ]
  },
  {
   "cell_type": "markdown",
   "metadata": {},
   "source": [
    "Same as above, with the `geom_free` flag for the `BilinearForm`:"
   ]
  },
  {
   "cell_type": "code",
   "execution_count": null,
   "metadata": {},
   "outputs": [],
   "source": [
    "order=5\n",
    "SetHeapSize(100*1000*1000)\n",
    "Sigma = VectorL2(mesh, order=order, piola=True)\n",
    "Vt = L2(mesh, order=order-1)\n",
    "Vf = FacetFESpace(mesh, order=order, dirichlet=[2])\n",
    "V = Vt*Vf\n",
    "print (\"Sigma.ndof =\", Sigma.ndof, \", V.ndof =\", V.ndof)\n",
    "sigma,tau = Sigma.TnT()\n",
    "(ut,uf), (vt,vf) = V.TnT()\n",
    "\n",
    "b = BilinearForm(trialspace=Sigma, testspace=V, geom_free=False)\n",
    "b += div(sigma) * vt * dx\n",
    "n = specialcf.normal(mesh.dim)\n",
    "dS = dx(element_boundary=True)\n",
    "b += -sigma*n*vf * dS\n",
    "b.Assemble()"
   ]
  },
  {
   "cell_type": "markdown",
   "metadata": {},
   "source": [
    "`L2` finite element spaces have a `Mass` method generating a linear operator for multiplication with the diagonal mass matrix. In case of variable coefficients or curved elements it uses numerical integration. It also provide an inverse operator:"
   ]
  },
  {
   "cell_type": "code",
   "execution_count": null,
   "metadata": {},
   "outputs": [],
   "source": [
    "from ngsolve.ngscuda import *\n",
    "#ainv = Sigma.Mass(rho=1).Inverse()\n",
    "ainv = BilinearForm(sigma*tau*dx, diagonal=True).Assemble().mat.Inverse()"
   ]
  },
  {
   "cell_type": "markdown",
   "metadata": {},
   "source": [
    "Combine the operators to form the Schur complement, which is actually a discretization of the Laplace operator:"
   ]
  },
  {
   "cell_type": "code",
   "execution_count": null,
   "metadata": {},
   "outputs": [],
   "source": [
    "Laplace = b.mat @ ainv @ b.mat.T\n",
    "\n",
    "f = LinearForm (V)\n",
    "f += 1*vt * dx\n",
    "f.Assemble()\n",
    "\n",
    "proj = Projector(V.FreeDofs(), True)\n",
    "\n",
    "gfu = GridFunction (V)"
   ]
  },
  {
   "cell_type": "markdown",
   "metadata": {},
   "source": [
    "The iteration count is very high since we used only the most trivial preconditioner. We can add a low order coarse-grid preconditioner to get rid of the mesh dependency, and also local inverses to improve the $p$-dependency."
   ]
  },
  {
   "cell_type": "code",
   "execution_count": null,
   "metadata": {},
   "outputs": [],
   "source": [
    "import time\n",
    "\n",
    "#ngsglobals.msg_level = 9\n",
    "\n",
    "adev = Laplace.CreateDeviceMatrix()\n",
    "projdev = proj.CreateDeviceMatrix()\n",
    "\n",
    "fdev = UnifiedVector(f.vec)\n",
    "gfudev = UnifiedVector(gfu.vec)\n",
    "\n",
    "t = time.time()\n",
    "with TaskManager():\n",
    "  solvers.CG(mat=Laplace, pre=proj, rhs=f.vec, sol=gfu.vec, maxsteps=5000, printrates=False)\n",
    "print(Norm(gfu.vec))\n",
    "print(time.time() - t)\n",
    "\n",
    "t = time.time()\n",
    "solvers.CG(mat=adev, pre=projdev, rhs=fdev, sol=gfudev, maxsteps=5000, printrates=False)\n",
    "print(Norm(gfudev))\n",
    "print(time.time() - t)"
   ]
  }
 ],
 "metadata": {
  "kernelspec": {
   "display_name": "Python 3 (ipykernel)",
   "language": "python",
   "name": "python3"
  },
  "language_info": {
   "codemirror_mode": {
    "name": "ipython",
    "version": 3
   },
   "file_extension": ".py",
   "mimetype": "text/x-python",
   "name": "python",
   "nbconvert_exporter": "python",
   "pygments_lexer": "ipython3",
   "version": "3.10.9"
  }
 },
 "nbformat": 4,
 "nbformat_minor": 2
}
